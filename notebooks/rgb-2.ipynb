{
 "cells": [
  {
   "cell_type": "code",
   "execution_count": 1,
   "metadata": {},
   "outputs": [],
   "source": [
    "import numpy as np\n",
    "from rgb import plot_data, get_layers\n",
    "import matplotlib.pyplot as plt\n",
    "from matplotlib import colors\n",
    "%matplotlib inline"
   ]
  },
  {
   "cell_type": "code",
   "execution_count": 2,
   "metadata": {},
   "outputs": [
    {
     "data": {
      "text/plain": [
       "(390, 1002, 1002)"
      ]
     },
     "execution_count": 2,
     "metadata": {},
     "output_type": "execute_result"
    }
   ],
   "source": [
    "stack = np.load(\"../stl_files/handgun_knife_mouse.npy\")\n",
    "stack.shape"
   ]
  },
  {
   "cell_type": "code",
   "execution_count": 3,
   "metadata": {},
   "outputs": [
    {
     "data": {
      "text/plain": [
       "((390, 1002, 93), (390, 1002, 128), (390, 1002, 781))"
      ]
     },
     "execution_count": 3,
     "metadata": {},
     "output_type": "execute_result"
    }
   ],
   "source": [
    "first, second = get_layers(stack)\n",
    "gun, knife, mouse = stack[..., :first], stack[..., first:second], stack[..., second:]\n",
    "gun.shape, knife.shape, mouse.shape"
   ]
  },
  {
   "cell_type": "code",
   "execution_count": 4,
   "metadata": {},
   "outputs": [],
   "source": [
    "# plot_data(gun.sum(axis = 2)), plot_data(knife.sum(axis = 2)), plot_data(mouse.sum(axis =2))"
   ]
  },
  {
   "cell_type": "code",
   "execution_count": 5,
   "metadata": {},
   "outputs": [
    {
     "data": {
      "text/plain": [
       "(390, 1002)"
      ]
     },
     "execution_count": 5,
     "metadata": {},
     "output_type": "execute_result"
    }
   ],
   "source": [
    "gun_plate = gun.sum(axis=2)\n",
    "gun_plate.shape"
   ]
  },
  {
   "cell_type": "code",
   "execution_count": 6,
   "metadata": {},
   "outputs": [],
   "source": [
    "# def layer_color(layer, density=0.65):\n",
    "#     layer_im = np.zeros(layer.shape + (3,))\n",
    "#     layer_im[..., 0][layer > 0.] = density\n",
    "#     # gun_im[..., 1][gun_plate > 0.] = 1\n",
    "#     layer_im[..., 1] = layer / layer.max()\n",
    "#     layer_im[..., 2] = 1.\n",
    "\n",
    "#     return colors.hsv_to_rgb(layer_im)"
   ]
  },
  {
   "cell_type": "code",
   "execution_count": 7,
   "metadata": {},
   "outputs": [],
   "source": [
    "# def layer_color(layer, object_type = None):\n",
    "#     assert object_type is not None\n",
    "#     if object_type not in mapping.keys() or not mapping[object_type]:\n",
    "#         raise NotImplementedError(f\"Available objects are {list(mapping.keys())}\")\n",
    "#     layer_im = np.zeros(layer.shape + (3,))\n",
    "    \n",
    "#     layer_im[..., 0] = np.interp(layer, np.linspace(layer.min(), layer.max(), 100), np.linspace(*mapping[object_type], 100))\n",
    "#     layer_im[..., 1] = 1.\n",
    "#     layer_im[..., 1][layer == 0.] = 0.02\n",
    "#     layer_im[..., 2] = 1.\n",
    "#     layer_im[..., 2][layer != 0.] = 1.\n",
    "\n",
    "#     return colors.hsv_to_rgb(layer_im)"
   ]
  },
  {
   "cell_type": "code",
   "execution_count": 8,
   "metadata": {},
   "outputs": [],
   "source": [
    "# def layer_color(layer, object_type = None):\n",
    "#     assert object_type is not None\n",
    "#     if object_type not in mapping.keys() or not mapping[object_type]:\n",
    "#         raise NotImplementedError(f\"Available objects are {list(mapping.keys())}\")\n",
    "#     layer_im = np.zeros(layer.shape + (3,))\n",
    "    \n",
    "#     layer_im[..., 0] = np.interp(layer, np.linspace(layer.min(), layer.max(), 100), np.linspace(*mapping[object_type], 100))\n",
    "#     layer_im[..., 1] = 1.\n",
    "#     layer_im[..., 2] = .9\n",
    "    \n",
    "#     layer_im[..., 1][layer == 0.] = 0. # Make background white\n",
    "#     layer_im[..., 2][layer == 0.] = 1.\n",
    "\n",
    "#     return colors.hsv_to_rgb(layer_im)"
   ]
  },
  {
   "cell_type": "code",
   "execution_count": 9,
   "metadata": {},
   "outputs": [],
   "source": [
    "def layer_color(layer, object_type = None):\n",
    "    assert object_type is not None\n",
    "    if object_type not in mapping.keys() or not mapping[object_type]:\n",
    "        raise NotImplementedError(f\"Available objects are {list(mapping.keys())}\")\n",
    "    layer_im = np.zeros(layer.shape + (3,))\n",
    "    \n",
    "    hue_map = np.interp(layer, np.linspace(layer.min(), layer.max(), 100), np.linspace(*mapping[object_type], 100))\n",
    "    layer_im[..., 0] = hue_map\n",
    "    layer_im[..., 1] = 1.\n",
    "    layer_im[..., 2] = 1. - np.interp(layer, np.linspace(layer.min(), layer.max(), 100), np.linspace(0.1, 0.5, 100))  # more depth -> more dark\n",
    "    \n",
    "    layer_im[..., 1][layer == 0.] = 0. # Make background white\n",
    "    layer_im[..., 2][layer == 0.] = 1.\n",
    "\n",
    "    return colors.hsv_to_rgb(layer_im)"
   ]
  },
  {
   "cell_type": "code",
   "execution_count": 10,
   "metadata": {},
   "outputs": [],
   "source": [
    "# mapping = {\n",
    "#     'gun': [0.3, 0.7],\n",
    "#     'knife': [0.25, 0.4],\n",
    "#     'plastic': [0.09, 0.12],\n",
    "#     'cloth': [0.1, 0.11],\n",
    "# }"
   ]
  },
  {
   "cell_type": "code",
   "execution_count": 11,
   "metadata": {},
   "outputs": [],
   "source": [
    "mapping = {\n",
    "    'gun': [0.3, 0.7],\n",
    "    'knife': [0.25, 0.5],\n",
    "    'plastic': [0.09, 0.12],\n",
    "    'cloth': [0.1, 0.11],\n",
    "}"
   ]
  },
  {
   "cell_type": "code",
   "execution_count": 12,
   "metadata": {},
   "outputs": [],
   "source": [
    "from PIL import Image as Im"
   ]
  },
  {
   "cell_type": "code",
   "execution_count": 37,
   "metadata": {},
   "outputs": [],
   "source": [
    "knife_img = Im.fromarray((layer_color(knife.sum(axis=2), 'knife')*255.).astype(np.uint8)); knife_rgba = knife_img.copy()\n",
    "gun_img = Im.fromarray((layer_color(gun.sum(axis=2), 'gun')*255.).astype(np.uint8)); gun_rgba = gun_img.copy()\n",
    "mouse_img = Im.fromarray((layer_color(mouse.sum(axis=2), 'plastic')*255.).astype(np.uint8)); mouse_rgba = mouse_img.copy()"
   ]
  },
  {
   "cell_type": "code",
   "execution_count": 38,
   "metadata": {},
   "outputs": [
    {
     "data": {
      "text/plain": [
       "(None, None, None)"
      ]
     },
     "execution_count": 38,
     "metadata": {},
     "output_type": "execute_result"
    }
   ],
   "source": [
    "gun_rgba.putalpha(175), knife_rgba.putalpha(175), mouse_rgba.putalpha(175)"
   ]
  },
  {
   "cell_type": "code",
   "execution_count": 40,
   "metadata": {},
   "outputs": [
    {
     "data": {
      "image/png": "[encoded data removed]",
      "text/plain": [
       "<PIL.Image.Image image mode=RGB size=1002x390 at 0x21A7D507048>"
      ]
     },
     "execution_count": 40,
     "metadata": {},
     "output_type": "execute_result"
    }
   ],
   "source": [
    "knife_img"
   ]
  },
  {
   "cell_type": "code",
   "execution_count": 15,
   "metadata": {},
   "outputs": [],
   "source": [
    "def transparent_bg(rgba):\n",
    "    new_data = []\n",
    "    for i in rgba.getdata():\n",
    "        if i[0] == 255 and i[1] == 255 and i[2] == 255:\n",
    "            new_data.append((255, 255, 255, 0))\n",
    "        else:\n",
    "            new_data.append(i)\n",
    "    rgba.putdata(new_data)\n",
    "    \n",
    "    return rgba"
   ]
  },
  {
   "cell_type": "code",
   "execution_count": 18,
   "metadata": {},
   "outputs": [
    {
     "ename": "ValueError",
     "evalue": "operands could not be broadcast together with shapes (390,1002,3) (390,1002,4) ",
     "output_type": "error",
     "traceback": [
      "\u001b[1;31m---------------------------------------------------------------------------\u001b[0m",
      "\u001b[1;31mValueError\u001b[0m                                Traceback (most recent call last)",
      "\u001b[1;32m<ipython-input-18-b4d7788dd0b1>\u001b[0m in \u001b[0;36m<module>\u001b[1;34m\u001b[0m\n\u001b[1;32m----> 1\u001b[1;33m \u001b[0mplot_data\u001b[0m\u001b[1;33m(\u001b[0m\u001b[0mnp\u001b[0m\u001b[1;33m.\u001b[0m\u001b[0marray\u001b[0m\u001b[1;33m(\u001b[0m\u001b[0mgun_img\u001b[0m\u001b[1;33m)\u001b[0m \u001b[1;33m*\u001b[0m \u001b[0mnp\u001b[0m\u001b[1;33m.\u001b[0m\u001b[0marray\u001b[0m\u001b[1;33m(\u001b[0m\u001b[0mgun_rgba\u001b[0m\u001b[1;33m)\u001b[0m\u001b[1;33m)\u001b[0m\u001b[1;33m\u001b[0m\u001b[1;33m\u001b[0m\u001b[0m\n\u001b[0m",
      "\u001b[1;31mValueError\u001b[0m: operands could not be broadcast together with shapes (390,1002,3) (390,1002,4) "
     ]
    }
   ],
   "source": [
    "plot_data(np.array(gun_img) * np.array(gun_rgba))"
   ]
  },
  {
   "cell_type": "code",
   "execution_count": 387,
   "metadata": {},
   "outputs": [],
   "source": [
    "def merge_layers(layers):\n",
    "    r = np.add(*[layers[i][..., 0] for i in range(len(layers))])\n",
    "    g = np.add(*[layers[i][..., 1] for i in range(len(layers))])\n",
    "    b = np.add(*[layers[i][..., 2] for i in range(len(layers))])\n",
    "    \n",
    "    return np.stack((r, g, b), axis = 2)"
   ]
  },
  {
   "cell_type": "code",
   "execution_count": 393,
   "metadata": {},
   "outputs": [],
   "source": [
    "def merge_layers(layers):\n",
    "    image = np.zeros_like(layers[0])\n",
    "    \n",
    "    for l in layers:\n",
    "        image[..., 0][l[..., 0] != 0.] = l[..., 0]\n",
    "        image[..., 1][l[..., 1] != 0.] = l[..., 1]\n",
    "        image[..., 2][l[..., 2] != 0.] = l[..., 2]\n",
    "    \n",
    "    return image"
   ]
  },
  {
   "cell_type": "code",
   "execution_count": 394,
   "metadata": {},
   "outputs": [
    {
     "ename": "TypeError",
     "evalue": "NumPy boolean array indexing assignment requires a 0 or 1-dimensional input, input has 2 dimensions",
     "output_type": "error",
     "traceback": [
      "\u001b[1;31m---------------------------------------------------------------------------\u001b[0m",
      "\u001b[1;31mTypeError\u001b[0m                                 Traceback (most recent call last)",
      "\u001b[1;32m<ipython-input-394-4d69a877eb7d>\u001b[0m in \u001b[0;36m<module>\u001b[1;34m\u001b[0m\n\u001b[1;32m----> 1\u001b[1;33m \u001b[0mmerged_image\u001b[0m \u001b[1;33m=\u001b[0m \u001b[0mmerge_layers\u001b[0m\u001b[1;33m(\u001b[0m\u001b[1;33m[\u001b[0m\u001b[0mlayer_color\u001b[0m\u001b[1;33m(\u001b[0m\u001b[0mgun\u001b[0m\u001b[1;33m.\u001b[0m\u001b[0msum\u001b[0m\u001b[1;33m(\u001b[0m\u001b[0maxis\u001b[0m\u001b[1;33m=\u001b[0m\u001b[1;36m2\u001b[0m\u001b[1;33m)\u001b[0m\u001b[1;33m,\u001b[0m \u001b[1;34m'gun'\u001b[0m\u001b[1;33m)\u001b[0m\u001b[1;33m,\u001b[0m \u001b[0mlayer_color\u001b[0m\u001b[1;33m(\u001b[0m\u001b[0mknife\u001b[0m\u001b[1;33m.\u001b[0m\u001b[0msum\u001b[0m\u001b[1;33m(\u001b[0m\u001b[0maxis\u001b[0m\u001b[1;33m=\u001b[0m\u001b[1;36m2\u001b[0m\u001b[1;33m)\u001b[0m\u001b[1;33m,\u001b[0m \u001b[1;34m'knife'\u001b[0m\u001b[1;33m)\u001b[0m\u001b[1;33m,\u001b[0m \u001b[0mlayer_color\u001b[0m\u001b[1;33m(\u001b[0m\u001b[0mmouse\u001b[0m\u001b[1;33m.\u001b[0m\u001b[0msum\u001b[0m\u001b[1;33m(\u001b[0m\u001b[0maxis\u001b[0m\u001b[1;33m=\u001b[0m\u001b[1;36m2\u001b[0m\u001b[1;33m)\u001b[0m\u001b[1;33m,\u001b[0m \u001b[1;34m'plastic'\u001b[0m\u001b[1;33m)\u001b[0m\u001b[1;33m]\u001b[0m\u001b[1;33m)\u001b[0m\u001b[1;33m\u001b[0m\u001b[1;33m\u001b[0m\u001b[0m\n\u001b[0m",
      "\u001b[1;32m<ipython-input-393-8d4f0bb15f07>\u001b[0m in \u001b[0;36mmerge_layers\u001b[1;34m(layers)\u001b[0m\n\u001b[0;32m      3\u001b[0m \u001b[1;33m\u001b[0m\u001b[0m\n\u001b[0;32m      4\u001b[0m     \u001b[1;32mfor\u001b[0m \u001b[0ml\u001b[0m \u001b[1;32min\u001b[0m \u001b[0mlayers\u001b[0m\u001b[1;33m:\u001b[0m\u001b[1;33m\u001b[0m\u001b[1;33m\u001b[0m\u001b[0m\n\u001b[1;32m----> 5\u001b[1;33m         \u001b[0mimage\u001b[0m\u001b[1;33m[\u001b[0m\u001b[1;33m...\u001b[0m\u001b[1;33m,\u001b[0m \u001b[1;36m0\u001b[0m\u001b[1;33m]\u001b[0m\u001b[1;33m[\u001b[0m\u001b[0ml\u001b[0m\u001b[1;33m[\u001b[0m\u001b[1;33m...\u001b[0m\u001b[1;33m,\u001b[0m \u001b[1;36m0\u001b[0m\u001b[1;33m]\u001b[0m \u001b[1;33m!=\u001b[0m \u001b[1;36m0.\u001b[0m\u001b[1;33m]\u001b[0m \u001b[1;33m=\u001b[0m \u001b[0ml\u001b[0m\u001b[1;33m[\u001b[0m\u001b[1;33m...\u001b[0m\u001b[1;33m,\u001b[0m \u001b[1;36m0\u001b[0m\u001b[1;33m]\u001b[0m\u001b[1;33m\u001b[0m\u001b[1;33m\u001b[0m\u001b[0m\n\u001b[0m\u001b[0;32m      6\u001b[0m         \u001b[0mimage\u001b[0m\u001b[1;33m[\u001b[0m\u001b[1;33m...\u001b[0m\u001b[1;33m,\u001b[0m \u001b[1;36m1\u001b[0m\u001b[1;33m]\u001b[0m\u001b[1;33m[\u001b[0m\u001b[0ml\u001b[0m\u001b[1;33m[\u001b[0m\u001b[1;33m...\u001b[0m\u001b[1;33m,\u001b[0m \u001b[1;36m1\u001b[0m\u001b[1;33m]\u001b[0m \u001b[1;33m!=\u001b[0m \u001b[1;36m0.\u001b[0m\u001b[1;33m]\u001b[0m \u001b[1;33m=\u001b[0m \u001b[0ml\u001b[0m\u001b[1;33m[\u001b[0m\u001b[1;33m...\u001b[0m\u001b[1;33m,\u001b[0m \u001b[1;36m1\u001b[0m\u001b[1;33m]\u001b[0m\u001b[1;33m\u001b[0m\u001b[1;33m\u001b[0m\u001b[0m\n\u001b[0;32m      7\u001b[0m         \u001b[0mimage\u001b[0m\u001b[1;33m[\u001b[0m\u001b[1;33m...\u001b[0m\u001b[1;33m,\u001b[0m \u001b[1;36m2\u001b[0m\u001b[1;33m]\u001b[0m\u001b[1;33m[\u001b[0m\u001b[0ml\u001b[0m\u001b[1;33m[\u001b[0m\u001b[1;33m...\u001b[0m\u001b[1;33m,\u001b[0m \u001b[1;36m2\u001b[0m\u001b[1;33m]\u001b[0m \u001b[1;33m!=\u001b[0m \u001b[1;36m0.\u001b[0m\u001b[1;33m]\u001b[0m \u001b[1;33m=\u001b[0m \u001b[0ml\u001b[0m\u001b[1;33m[\u001b[0m\u001b[1;33m...\u001b[0m\u001b[1;33m,\u001b[0m \u001b[1;36m2\u001b[0m\u001b[1;33m]\u001b[0m\u001b[1;33m\u001b[0m\u001b[1;33m\u001b[0m\u001b[0m\n",
      "\u001b[1;31mTypeError\u001b[0m: NumPy boolean array indexing assignment requires a 0 or 1-dimensional input, input has 2 dimensions"
     ]
    }
   ],
   "source": [
    "merged_image = merge_layers([layer_color(gun.sum(axis=2), 'gun'), layer_color(knife.sum(axis=2), 'knife'), layer_color(mouse.sum(axis=2), 'plastic')])"
   ]
  },
  {
   "cell_type": "code",
   "execution_count": null,
   "metadata": {},
   "outputs": [],
   "source": []
  },
  {
   "cell_type": "code",
   "execution_count": 358,
   "metadata": {},
   "outputs": [],
   "source": [
    "from PIL import Image"
   ]
  },
  {
   "cell_type": "code",
   "execution_count": 359,
   "metadata": {},
   "outputs": [],
   "source": [
    "def rmBlack(img): #Changes the black pixels to transparent\n",
    "    img = img.convert('RGBA')\n",
    "    datas = img.getdata()\n",
    "\n",
    "    newData = []\n",
    "    for item in datas:\n",
    "        if item[0] == 0 and item[1] == 0 and item[2] == 0:\n",
    "            newData.append((255, 255, 255, 0))\n",
    "        else:\n",
    "            newData.append(item)\n",
    "    img.putdata(newData)\n",
    "    return img"
   ]
  },
  {
   "cell_type": "code",
   "execution_count": 365,
   "metadata": {},
   "outputs": [],
   "source": [
    "im = layer_color(knife.sum(axis=2), 'knife') * 255.\n",
    "im = Image.fromarray(im.astype(np.uint8))"
   ]
  },
  {
   "cell_type": "code",
   "execution_count": 371,
   "metadata": {},
   "outputs": [],
   "source": [
    "im.putalpha(128)\n",
    "im.save('alpha.png')"
   ]
  },
  {
   "cell_type": "code",
   "execution_count": null,
   "metadata": {},
   "outputs": [],
   "source": []
  }
 ],
 "metadata": {
  "kernelspec": {
   "display_name": "Python 3",
   "language": "python",
   "name": "python3"
  },
  "language_info": {
   "codemirror_mode": {
    "name": "ipython",
    "version": 3
   },
   "file_extension": ".py",
   "mimetype": "text/x-python",
   "name": "python",
   "nbconvert_exporter": "python",
   "pygments_lexer": "ipython3",
   "version": "3.6.12"
  }
 },
 "nbformat": 4,
 "nbformat_minor": 4
}
